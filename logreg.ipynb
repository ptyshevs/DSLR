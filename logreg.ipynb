{
 "cells": [
  {
   "cell_type": "code",
   "execution_count": 134,
   "metadata": {},
   "outputs": [],
   "source": [
    "import pandas as pd\n",
    "import numpy as np"
   ]
  },
  {
   "cell_type": "code",
   "execution_count": 137,
   "metadata": {},
   "outputs": [
    {
     "data": {
      "text/html": [
       "<div>\n",
       "<style scoped>\n",
       "    .dataframe tbody tr th:only-of-type {\n",
       "        vertical-align: middle;\n",
       "    }\n",
       "\n",
       "    .dataframe tbody tr th {\n",
       "        vertical-align: top;\n",
       "    }\n",
       "\n",
       "    .dataframe thead th {\n",
       "        text-align: right;\n",
       "    }\n",
       "</style>\n",
       "<table border=\"1\" class=\"dataframe\">\n",
       "  <thead>\n",
       "    <tr style=\"text-align: right;\">\n",
       "      <th></th>\n",
       "      <th>Hogwarts House</th>\n",
       "      <th>First Name</th>\n",
       "      <th>Last Name</th>\n",
       "      <th>Birthday</th>\n",
       "      <th>Best Hand</th>\n",
       "      <th>Arithmancy</th>\n",
       "      <th>Astronomy</th>\n",
       "      <th>Herbology</th>\n",
       "      <th>Defense Against the Dark Arts</th>\n",
       "      <th>Divination</th>\n",
       "      <th>Muggle Studies</th>\n",
       "      <th>Ancient Runes</th>\n",
       "      <th>History of Magic</th>\n",
       "      <th>Transfiguration</th>\n",
       "      <th>Potions</th>\n",
       "      <th>Care of Magical Creatures</th>\n",
       "      <th>Charms</th>\n",
       "      <th>Flying</th>\n",
       "    </tr>\n",
       "    <tr>\n",
       "      <th>Index</th>\n",
       "      <th></th>\n",
       "      <th></th>\n",
       "      <th></th>\n",
       "      <th></th>\n",
       "      <th></th>\n",
       "      <th></th>\n",
       "      <th></th>\n",
       "      <th></th>\n",
       "      <th></th>\n",
       "      <th></th>\n",
       "      <th></th>\n",
       "      <th></th>\n",
       "      <th></th>\n",
       "      <th></th>\n",
       "      <th></th>\n",
       "      <th></th>\n",
       "      <th></th>\n",
       "      <th></th>\n",
       "    </tr>\n",
       "  </thead>\n",
       "  <tbody>\n",
       "    <tr>\n",
       "      <td>0</td>\n",
       "      <td>Ravenclaw</td>\n",
       "      <td>Tamara</td>\n",
       "      <td>Hsu</td>\n",
       "      <td>2000-03-30</td>\n",
       "      <td>Left</td>\n",
       "      <td>58384.0</td>\n",
       "      <td>-487.886086</td>\n",
       "      <td>5.727180</td>\n",
       "      <td>4.878861</td>\n",
       "      <td>4.722</td>\n",
       "      <td>272.035831</td>\n",
       "      <td>532.484226</td>\n",
       "      <td>5.231058</td>\n",
       "      <td>1039.788281</td>\n",
       "      <td>3.790369</td>\n",
       "      <td>0.715939</td>\n",
       "      <td>-232.79405</td>\n",
       "      <td>-26.89</td>\n",
       "    </tr>\n",
       "    <tr>\n",
       "      <td>1</td>\n",
       "      <td>Slytherin</td>\n",
       "      <td>Erich</td>\n",
       "      <td>Paredes</td>\n",
       "      <td>1999-10-14</td>\n",
       "      <td>Right</td>\n",
       "      <td>67239.0</td>\n",
       "      <td>-552.060507</td>\n",
       "      <td>-5.987446</td>\n",
       "      <td>5.520605</td>\n",
       "      <td>-5.612</td>\n",
       "      <td>-487.340557</td>\n",
       "      <td>367.760303</td>\n",
       "      <td>4.107170</td>\n",
       "      <td>1058.944592</td>\n",
       "      <td>7.248742</td>\n",
       "      <td>0.091674</td>\n",
       "      <td>-252.18425</td>\n",
       "      <td>-113.45</td>\n",
       "    </tr>\n",
       "    <tr>\n",
       "      <td>2</td>\n",
       "      <td>Ravenclaw</td>\n",
       "      <td>Stephany</td>\n",
       "      <td>Braun</td>\n",
       "      <td>1999-11-03</td>\n",
       "      <td>Left</td>\n",
       "      <td>23702.0</td>\n",
       "      <td>-366.076117</td>\n",
       "      <td>7.725017</td>\n",
       "      <td>3.660761</td>\n",
       "      <td>6.140</td>\n",
       "      <td>664.893521</td>\n",
       "      <td>602.585284</td>\n",
       "      <td>3.555579</td>\n",
       "      <td>1088.088348</td>\n",
       "      <td>8.728531</td>\n",
       "      <td>-0.515327</td>\n",
       "      <td>-227.34265</td>\n",
       "      <td>30.42</td>\n",
       "    </tr>\n",
       "    <tr>\n",
       "      <td>3</td>\n",
       "      <td>Gryffindor</td>\n",
       "      <td>Vesta</td>\n",
       "      <td>Mcmichael</td>\n",
       "      <td>2000-08-19</td>\n",
       "      <td>Left</td>\n",
       "      <td>32667.0</td>\n",
       "      <td>697.742809</td>\n",
       "      <td>-6.497214</td>\n",
       "      <td>-6.977428</td>\n",
       "      <td>4.026</td>\n",
       "      <td>-537.001128</td>\n",
       "      <td>523.982133</td>\n",
       "      <td>-4.809637</td>\n",
       "      <td>920.391449</td>\n",
       "      <td>0.821911</td>\n",
       "      <td>-0.014040</td>\n",
       "      <td>-256.84675</td>\n",
       "      <td>200.64</td>\n",
       "    </tr>\n",
       "    <tr>\n",
       "      <td>4</td>\n",
       "      <td>Gryffindor</td>\n",
       "      <td>Gaston</td>\n",
       "      <td>Gibbs</td>\n",
       "      <td>1998-09-27</td>\n",
       "      <td>Left</td>\n",
       "      <td>60158.0</td>\n",
       "      <td>436.775204</td>\n",
       "      <td>-7.820623</td>\n",
       "      <td>NaN</td>\n",
       "      <td>2.236</td>\n",
       "      <td>-444.262537</td>\n",
       "      <td>599.324514</td>\n",
       "      <td>-3.444377</td>\n",
       "      <td>937.434724</td>\n",
       "      <td>4.311066</td>\n",
       "      <td>-0.264070</td>\n",
       "      <td>-256.38730</td>\n",
       "      <td>157.98</td>\n",
       "    </tr>\n",
       "  </tbody>\n",
       "</table>\n",
       "</div>"
      ],
      "text/plain": [
       "      Hogwarts House First Name  Last Name    Birthday Best Hand  Arithmancy  \\\n",
       "Index                                                                          \n",
       "0          Ravenclaw     Tamara        Hsu  2000-03-30      Left     58384.0   \n",
       "1          Slytherin      Erich    Paredes  1999-10-14     Right     67239.0   \n",
       "2          Ravenclaw   Stephany      Braun  1999-11-03      Left     23702.0   \n",
       "3         Gryffindor      Vesta  Mcmichael  2000-08-19      Left     32667.0   \n",
       "4         Gryffindor     Gaston      Gibbs  1998-09-27      Left     60158.0   \n",
       "\n",
       "        Astronomy  Herbology  Defense Against the Dark Arts  Divination  \\\n",
       "Index                                                                     \n",
       "0     -487.886086   5.727180                       4.878861       4.722   \n",
       "1     -552.060507  -5.987446                       5.520605      -5.612   \n",
       "2     -366.076117   7.725017                       3.660761       6.140   \n",
       "3      697.742809  -6.497214                      -6.977428       4.026   \n",
       "4      436.775204  -7.820623                            NaN       2.236   \n",
       "\n",
       "       Muggle Studies  Ancient Runes  History of Magic  Transfiguration  \\\n",
       "Index                                                                     \n",
       "0          272.035831     532.484226          5.231058      1039.788281   \n",
       "1         -487.340557     367.760303          4.107170      1058.944592   \n",
       "2          664.893521     602.585284          3.555579      1088.088348   \n",
       "3         -537.001128     523.982133         -4.809637       920.391449   \n",
       "4         -444.262537     599.324514         -3.444377       937.434724   \n",
       "\n",
       "        Potions  Care of Magical Creatures     Charms  Flying  \n",
       "Index                                                          \n",
       "0      3.790369                   0.715939 -232.79405  -26.89  \n",
       "1      7.248742                   0.091674 -252.18425 -113.45  \n",
       "2      8.728531                  -0.515327 -227.34265   30.42  \n",
       "3      0.821911                  -0.014040 -256.84675  200.64  \n",
       "4      4.311066                  -0.264070 -256.38730  157.98  "
      ]
     },
     "execution_count": 137,
     "metadata": {},
     "output_type": "execute_result"
    }
   ],
   "source": [
    "df = pd.read_csv('resources/dataset_train.csv', index_col=0)\n",
    "df.head()"
   ]
  },
  {
   "cell_type": "code",
   "execution_count": 144,
   "metadata": {},
   "outputs": [
    {
     "data": {
      "text/plain": [
       "((1600, 13), (1600,))"
      ]
     },
     "execution_count": 144,
     "metadata": {},
     "output_type": "execute_result"
    }
   ],
   "source": [
    "target = 'Hogwarts House'\n",
    "\n",
    "courses = ['Arithmancy',\n",
    "            'Astronomy',\n",
    "            'Herbology',\n",
    "            'Defense Against the Dark Arts',\n",
    "            'Divination',\n",
    "            'Muggle Studies',\n",
    "            'Ancient Runes',\n",
    "            'History of Magic',\n",
    "            'Transfiguration',\n",
    "            'Potions',\n",
    "            'Care of Magical Creatures',\n",
    "            'Charms',\n",
    "            'Flying']\n",
    "\n",
    "X = df[courses]\n",
    "y = df[target]\n",
    "X.shape, y.shape"
   ]
  },
  {
   "cell_type": "code",
   "execution_count": 153,
   "metadata": {},
   "outputs": [],
   "source": [
    "X = X.fillna(0)"
   ]
  },
  {
   "cell_type": "code",
   "execution_count": 158,
   "metadata": {},
   "outputs": [],
   "source": [
    "n, m = X.shape"
   ]
  },
  {
   "cell_type": "code",
   "execution_count": 187,
   "metadata": {},
   "outputs": [],
   "source": [
    "w = np.zeros((m, 1))\n",
    "b = np.zeros((1))"
   ]
  },
  {
   "cell_type": "code",
   "execution_count": 188,
   "metadata": {},
   "outputs": [],
   "source": [
    "Xv = X.values"
   ]
  },
  {
   "cell_type": "code",
   "execution_count": 189,
   "metadata": {},
   "outputs": [],
   "source": [
    "z = Xv @ w + b"
   ]
  },
  {
   "cell_type": "code",
   "execution_count": 190,
   "metadata": {},
   "outputs": [],
   "source": [
    "def sigmoid(z):\n",
    "    return 1 / (1 + np.exp(-z))"
   ]
  },
  {
   "cell_type": "code",
   "execution_count": 196,
   "metadata": {},
   "outputs": [],
   "source": [
    "y_hat = sigmoid(z)\n",
    "y_hat = y_hat.ravel()"
   ]
  },
  {
   "cell_type": "code",
   "execution_count": 197,
   "metadata": {},
   "outputs": [],
   "source": [
    "y_true = y.apply(lambda x: 1 if x == 'Ravenclaw' else 0)"
   ]
  },
  {
   "cell_type": "code",
   "execution_count": 198,
   "metadata": {},
   "outputs": [],
   "source": [
    "def log_loss(y_true, y_hat):\n",
    "    return -(y_true * np.log(y_hat) + (1 - y_true) * np.log(1 - y_hat)).mean()"
   ]
  },
  {
   "cell_type": "code",
   "execution_count": 218,
   "metadata": {},
   "outputs": [],
   "source": [
    "err = (y_hat - y_true).values.reshape(-1, 1)"
   ]
  },
  {
   "cell_type": "code",
   "execution_count": 219,
   "metadata": {},
   "outputs": [
    {
     "data": {
      "text/plain": [
       "array([ 1.09703084e+04,  1.49712281e+02, -8.00297056e-01, -1.50009208e+00,\n",
       "        1.88667812e-01, -2.40981651e+02,  7.95648753e+01,  1.14421482e-01,\n",
       "        2.19856978e+02,  1.01070364e+00, -2.70960613e-02, -5.77067699e+01,\n",
       "        1.20809125e+01])"
      ]
     },
     "execution_count": 219,
     "metadata": {},
     "output_type": "execute_result"
    }
   ],
   "source": [
    "dw = (np.multiply(err, Xv)).mean(axis=0)\n",
    "dw"
   ]
  },
  {
   "cell_type": "code",
   "execution_count": 222,
   "metadata": {},
   "outputs": [
    {
     "data": {
      "text/plain": [
       "array([0.223125])"
      ]
     },
     "execution_count": 222,
     "metadata": {},
     "output_type": "execute_result"
    }
   ],
   "source": [
    "db = err.mean(axis=0)\n",
    "db"
   ]
  },
  {
   "cell_type": "code",
   "execution_count": 223,
   "metadata": {},
   "outputs": [],
   "source": [
    "lr = .05"
   ]
  },
  {
   "cell_type": "code",
   "execution_count": 232,
   "metadata": {},
   "outputs": [],
   "source": [
    "Xv = (Xv - Xv.mean(axis=0)) / (Xv.std(axis=0))"
   ]
  },
  {
   "cell_type": "code",
   "execution_count": 234,
   "metadata": {},
   "outputs": [
    {
     "name": "stdout",
     "output_type": "stream",
     "text": [
      "[0]: 0.6858635633072413\n",
      "[1]: 0.6549966171298763\n",
      "[2]: 0.6267007296654237\n",
      "[3]: 0.600725055257914\n",
      "[4]: 0.5768386264159691\n",
      "[5]: 0.5548312258989128\n",
      "[6]: 0.5345131933172117\n",
      "[7]: 0.515714520195702\n",
      "[8]: 0.49828351515462077\n",
      "[9]: 0.48208524907175354\n",
      "[10]: 0.46699992761149534\n",
      "[11]: 0.452921288520437\n",
      "[12]: 0.4397550834877685\n",
      "[13]: 0.42741767747556425\n",
      "[14]: 0.41583478005757\n",
      "[15]: 0.40494031135024117\n",
      "[16]: 0.39467539777682176\n",
      "[17]: 0.3849874887562274\n",
      "[18]: 0.375829583393019\n",
      "[19]: 0.367159555600225\n",
      "[20]: 0.35893956628206314\n",
      "[21]: 0.3511355518793463\n",
      "[22]: 0.3437167795002575\n",
      "[23]: 0.3366554598728492\n",
      "[24]: 0.3299264103711747\n",
      "[25]: 0.3235067613314303\n",
      "[26]: 0.31737569976026636\n",
      "[27]: 0.31151424533290456\n",
      "[28]: 0.3059050542820431\n",
      "[29]: 0.3005322473935787\n",
      "[30]: 0.29538125885873806\n",
      "[31]: 0.2904387031924691\n",
      "[32]: 0.28569225782334806\n",
      "[33]: 0.281130559299012\n",
      "[34]: 0.2767431113408117\n",
      "[35]: 0.2725202032288328\n",
      "[36]: 0.2684528372097167\n",
      "[37]: 0.26453266380010454\n",
      "[38]: 0.26075192401260633\n",
      "[39]: 0.2571033976628793\n",
      "[40]: 0.2535803570290595\n",
      "[41]: 0.2501765252312635\n",
      "[42]: 0.24688603878161053\n",
      "[43]: 0.24370341382625255\n",
      "[44]: 0.24062351566199375\n",
      "[45]: 0.23764153116270098\n",
      "[46]: 0.2347529437961034\n",
      "[47]: 0.2319535109508136\n",
      "[48]: 0.22923924332736192\n",
      "[49]: 0.2266063861764887\n",
      "[50]: 0.22405140219352057\n",
      "[51]: 0.22157095589992246\n",
      "[52]: 0.2191618993625235\n",
      "[53]: 0.216821259117864\n",
      "[54]: 0.21454622418393807\n",
      "[55]: 0.21233413505459967\n",
      "[56]: 0.21018247358330483\n",
      "[57]: 0.20808885367289284\n",
      "[58]: 0.20605101269694295\n",
      "[59]: 0.20406680358603693\n",
      "[60]: 0.2021341875191453\n",
      "[61]: 0.2002512271664505\n",
      "[62]: 0.19841608043532538\n",
      "[63]: 0.19662699467598393\n",
      "[64]: 0.19488230130758788\n",
      "[65]: 0.1931804108293926\n",
      "[66]: 0.19151980818490688\n",
      "[67]: 0.18989904845006678\n",
      "[68]: 0.18831675281913227\n",
      "[69]: 0.18677160486444166\n",
      "[70]: 0.18526234704833236\n",
      "[71]: 0.183787777467493\n",
      "[72]: 0.18234674681176585\n",
      "[73]: 0.18093815552100323\n",
      "[74]: 0.17956095112500606\n",
      "[75]: 0.1782141257528611\n",
      "[76]: 0.17689671379915772\n",
      "[77]: 0.1756077897356154\n",
      "[78]: 0.17434646605760992\n",
      "[79]: 0.1731118913559488\n",
      "[80]: 0.17190324850503294\n",
      "[81]: 0.1707197529592548\n",
      "[82]: 0.16956065115013272\n",
      "[83]: 0.16842521897727158\n",
      "[84]: 0.1673127603867815\n",
      "[85]: 0.1662226060312744\n",
      "[86]: 0.165154112006012\n",
      "[87]: 0.16410665865618612\n",
      "[88]: 0.16307964945069073\n",
      "[89]: 0.162072509918088\n",
      "[90]: 0.16108468664078748\n",
      "[91]: 0.16011564630374747\n",
      "[92]: 0.15916487479427222\n",
      "[93]: 0.15823187634972605\n",
      "[94]: 0.1573161727502077\n",
      "[95]: 0.15641730255343758\n",
      "[96]: 0.15553482036930036\n",
      "[97]: 0.1546682961716623\n",
      "[98]: 0.15381731464524437\n",
      "[99]: 0.15298147456548303\n"
     ]
    }
   ],
   "source": [
    "np.random.seed(42)\n",
    "w = np.random.randn(m, 1).ravel() * 0.01\n",
    "b = np.zeros((1))\n",
    "\n",
    "iter = 100\n",
    "for i in range(iter):\n",
    "    z = Xv @ w + b\n",
    "    y_hat = sigmoid(z)\n",
    "    y_hat = y_hat.ravel()\n",
    "    print(f'[{i}]: {log_loss(y_true, y_hat)}')\n",
    "    err = (y_hat - y_true).values.reshape(-1, 1)\n",
    "    dw = np.multiply(err, Xv).mean(axis=0)\n",
    "    db = err.mean(axis=0)\n",
    "    \n",
    "    w = w - lr * dw\n",
    "    b = b - lr * db"
   ]
  }
 ],
 "metadata": {
  "kernelspec": {
   "display_name": "Python 3",
   "language": "python",
   "name": "python3"
  },
  "language_info": {
   "codemirror_mode": {
    "name": "ipython",
    "version": 3
   },
   "file_extension": ".py",
   "mimetype": "text/x-python",
   "name": "python",
   "nbconvert_exporter": "python",
   "pygments_lexer": "ipython3",
   "version": "3.6.8"
  }
 },
 "nbformat": 4,
 "nbformat_minor": 4
}
